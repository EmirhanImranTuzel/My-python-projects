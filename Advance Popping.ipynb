{
 "cells": [
  {
   "cell_type": "markdown",
   "id": "8771260e-341e-4ba6-9381-ef47eed347e5",
   "metadata": {},
   "source": [
    "# Write a Python program to remove and print every third number from a list of numbers until the list becomes empty.<br> For Example :<br>liste = [1 ,2 ,3 ,4 ,5 ,6 ,7 ,8 ,9]<br>Expected Output:<br>[1, 2, 4, 5, 6, 7, 8, 9]<br>[1, 2, 4, 5, 7, 8, 9]<br>[1, 2, 4, 5, 7, 8]<br>[1, 2, 5, 7, 8]<br>[1, 2, 5, 7]<br>[1, 2, 7]<br>[1, 7]<br>[1]<br>[]"
   ]
  },
  {
   "cell_type": "code",
   "execution_count": 2,
   "id": "9cde210a-16f4-4758-aaa7-7523462a0544",
   "metadata": {},
   "outputs": [
    {
     "name": "stdout",
     "output_type": "stream",
     "text": [
      "[1, 2, 4, 5, 6, 7]\n",
      "[1, 2, 4, 5, 7]\n",
      "[1, 4, 5, 7]\n",
      "[1, 4, 5]\n",
      "[1, 4]\n",
      "[4]\n",
      "[]\n"
     ]
    }
   ],
   "source": [
    "list_ = [1 ,2 ,3 ,4 ,5 ,6 ,7]\n",
    "indeks = 0\n",
    "uzunluk = len(list_)\n",
    "while len(list_) > 0 :\n",
    "    indeks = (2 + indeks) % uzunluk\n",
    "    list_.pop(indeks)\n",
    "    print(list_)\n",
    "    uzunluk -= 1"
   ]
  },
  {
   "cell_type": "code",
   "execution_count": 3,
   "id": "99ea93da-ecc5-472a-96af-058b29c0e145",
   "metadata": {},
   "outputs": [
    {
     "name": "stdout",
     "output_type": "stream",
     "text": [
      "[1, 2, 4, 5, 6, 7, 8, 9]\n",
      "[1, 2, 4, 5, 7, 8, 9]\n",
      "[1, 2, 4, 5, 7, 8]\n",
      "[1, 2, 5, 7, 8]\n",
      "[1, 2, 5, 7]\n",
      "[1, 2, 7]\n",
      "[1, 7]\n",
      "[1]\n",
      "[]\n"
     ]
    }
   ],
   "source": [
    "list_1 = [1 ,2 ,3 ,4 ,5 ,6 ,7 ,8 ,9]\n",
    "range_list = len(list_1)\n",
    "x = 0\n",
    "for i in range(0, len(list_1)):\n",
    "        x = (2 + x) % range_list\n",
    "        list_1.pop(x)\n",
    "        print(list_1)\n",
    "        range_list -= 1"
   ]
  }
 ],
 "metadata": {
  "kernelspec": {
   "display_name": "Python 3 (ipykernel)",
   "language": "python",
   "name": "python3"
  },
  "language_info": {
   "codemirror_mode": {
    "name": "ipython",
    "version": 3
   },
   "file_extension": ".py",
   "mimetype": "text/x-python",
   "name": "python",
   "nbconvert_exporter": "python",
   "pygments_lexer": "ipython3",
   "version": "3.8.12"
  }
 },
 "nbformat": 4,
 "nbformat_minor": 5
}
