{
 "cells": [
  {
   "cell_type": "code",
   "execution_count": null,
   "metadata": {},
   "outputs": [],
   "source": [
    "# Sudoku Background\n",
    "# Sudoku is a game played on a 9x9 grid. The goal of the game is to fill all cells of the grid with digits from 1 to 9, \n",
    "# so that each column, each row, and each of the nine 3x3 sub-grids (also known as blocks) contain all of the digits from 1 to 9.\n",
    "# (More info at: http://en.wikipedia.org/wiki/Sudoku)\n",
    "# Sudoku Solution Validator\n",
    "# Write a function validSolution/ValidateSolution/valid_solution() that accepts a 2D array representing a Sudoku board, and returns true if it is a valid solution, or false otherwise.\n",
    "# The cells of the sudoku board may also contain 0's, which will represent empty cells. \n",
    "# Boards containing one or more zeroes are considered to be invalid solutions. The board is always 9 cells by 9 cells, and every cell only contains integers from 0 to 9.\n",
    "# Examples\n",
    "\n",
    "# validSolution([\n",
    "#    [5, 3, 4, 6, 7, 8, 9, 1, 2],\n",
    "#    [6, 7, 2, 1, 9, 5, 3, 4, 8],\n",
    "#    [1, 9, 8, 3, 4, 2, 5, 6, 7],\n",
    "#    [8, 5, 9, 7, 6, 1, 4, 2, 3],\n",
    "#    [4, 2, 6, 8, 5, 3, 7, 9, 1],\n",
    "#    [7, 1, 3, 9, 2, 4, 8, 5, 6],\n",
    "#    [9, 6, 1, 5, 3, 7, 2, 8, 4],\n",
    "#    [2, 8, 7, 4, 1, 9, 6, 3, 5],\n",
    "#    [3, 4, 5, 2, 8, 6, 1, 7, 9]\n",
    "#  ]); // => true\n",
    "\n",
    "# validSolution([\n",
    "#    [5, 3, 4, 6, 7, 8, 9, 1, 2], \n",
    "#    [6, 7, 2, 1, 9, 0, 3, 4, 8],\n",
    "#    [1, 0, 0, 3, 4, 2, 5, 6, 0],\n",
    "#    [8, 5, 9, 7, 6, 1, 0, 2, 0],\n",
    "#    [4, 2, 6, 8, 5, 3, 7, 9, 1],\n",
    "#    [7, 1, 3, 9, 2, 4, 8, 5, 6],\n",
    "#    [9, 0, 1, 5, 3, 7, 2, 1, 4],\n",
    "#    [2, 8, 7, 4, 1, 9, 6, 3, 5],\n",
    "#    [3, 0, 0, 4, 8, 1, 1, 7, 9]\n",
    "#  ]); // => false"
   ]
  },
  {
   "cell_type": "code",
   "execution_count": 2,
   "metadata": {},
   "outputs": [
    {
     "data": {
      "text/plain": [
       "True"
      ]
     },
     "execution_count": 2,
     "metadata": {},
     "output_type": "execute_result"
    }
   ],
   "source": [
    "def validsolution(validsolution):\n",
    "\n",
    "  number = list(\"123456789\")\n",
    "  validsolution_columns = []\n",
    "  for i in range(0, 9):\n",
    "    temp = []\n",
    "    for j in validsolution:\n",
    "      temp.append(j[i])\n",
    "    validsolution_columns.append(temp)\n",
    "\n",
    "  sub_grids = []\n",
    "  for i in range(0, len(validsolution), 3):\n",
    "    temp = []\n",
    "    for j in range(0, len(validsolution), 3):\n",
    "     for k in  validsolution[i: i+3]:\n",
    "       temp.extend(k[j: j+3])\n",
    "    for l in range(0, 27, 9):\n",
    "      sub_grids.append(temp[l: l+9])\n",
    "  \n",
    "  return all([str(i) in number and len(set(row)) == len(row) for row in validsolution for i in row]) \\\n",
    "    and all([str(j) in number and len(set(columns)) == len(columns) for columns in validsolution_columns for j in columns]) \\\n",
    "    and all([str(k) in number and len(set(sub_grid)) == len(sub_grid) for sub_grid in sub_grids for k in sub_grid])\n",
    "\n",
    "validsolution([\n",
    "  [5, 3, 4, 6, 7, 8, 9, 1, 2],\n",
    "  [6, 7, 2, 1, 9, 5, 3, 4, 8],\n",
    "  [1, 9, 8, 3, 4, 2, 5, 6, 7],\n",
    "  [8, 5, 9, 7, 6, 1, 4, 2, 3],\n",
    "  [4, 2, 6, 8, 5, 3, 7, 9, 1],\n",
    "  [7, 1, 3, 9, 2, 4, 8, 5, 6],\n",
    "  [9, 6, 1, 5, 3, 7, 2, 8, 4],\n",
    "  [2, 8, 7, 4, 1, 9, 6, 3, 5],\n",
    "  [3, 4, 5, 2, 8, 6, 1, 7, 9]\n",
    "])"
   ]
  }
 ],
 "metadata": {
  "interpreter": {
   "hash": "40d3a090f54c6569ab1632332b64b2c03c39dcf918b08424e98f38b5ae0af88f"
  },
  "kernelspec": {
   "display_name": "Python 3.8.5 64-bit ('base': conda)",
   "language": "python",
   "name": "python3"
  },
  "language_info": {
   "codemirror_mode": {
    "name": "ipython",
    "version": 3
   },
   "file_extension": ".py",
   "mimetype": "text/x-python",
   "name": "python",
   "nbconvert_exporter": "python",
   "pygments_lexer": "ipython3",
   "version": "3.8.5"
  },
  "orig_nbformat": 4
 },
 "nbformat": 4,
 "nbformat_minor": 2
}
