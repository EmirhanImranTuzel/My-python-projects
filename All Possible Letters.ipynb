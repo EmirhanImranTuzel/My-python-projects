{
 "cells": [
  {
   "cell_type": "markdown",
   "id": "fd8d3d5d-8dd8-4333-91fe-c30ce201ca8b",
   "metadata": {},
   "source": [
    "# This problem was asked by Yelp. Given a mapping of digits to letters (as in a phone number), and a digit string, return all possible letters the number could represent. You can assume each valid number in the mapping is a single digit.<br>For example if {“2”: [“a”, “b”, “c”], 3: [“d”, “e”, “f”], …} then “23” should return [“ad”, “ae”, “af”, “bd”, “be”, “bf”, “cd”, “ce”, “cf\"]i."
   ]
  },
  {
   "cell_type": "code",
   "execution_count": 4,
   "id": "937b87de-3f09-435e-800a-5b572df9a2ee",
   "metadata": {},
   "outputs": [
    {
     "name": "stdout",
     "output_type": "stream",
     "text": [
      "['adjm', 'adjn', 'adjo', 'adkm', 'adkn', 'adko', 'adlm', 'adln', 'adlo', 'aejm', 'aejn', 'aejo', 'aekm', 'aekn', 'aeko', 'aelm', 'aeln', 'aelo', 'afjm', 'afjn', 'afjo', 'afkm', 'afkn', 'afko', 'aflm', 'afln', 'aflo', 'bdjm', 'bdjn', 'bdjo', 'bdkm', 'bdkn', 'bdko', 'bdlm', 'bdln', 'bdlo', 'bejm', 'bejn', 'bejo', 'bekm', 'bekn', 'beko', 'belm', 'beln', 'belo', 'bfjm', 'bfjn', 'bfjo', 'bfkm', 'bfkn', 'bfko', 'bflm', 'bfln', 'bflo', 'cdjm', 'cdjn', 'cdjo', 'cdkm', 'cdkn', 'cdko', 'cdlm', 'cdln', 'cdlo', 'cejm', 'cejn', 'cejo', 'cekm', 'cekn', 'ceko', 'celm', 'celn', 'celo', 'cfjm', 'cfjn', 'cfjo', 'cfkm', 'cfkn', 'cfko', 'cflm', 'cfln', 'cflo']\n"
     ]
    }
   ],
   "source": [
    "dictt = {2: 'abc', 3: 'def', 4: 'ghi', 5: 'jkl', 6: 'mno', 7: 'pqrs', 8: 'tuv', 9: 'wxyz'}\n",
    "\n",
    "number = 2356\n",
    "\n",
    "str_num = str(number)\n",
    "\n",
    "a = 0\n",
    "b = 1\n",
    "\n",
    "first = dictt[int(str_num[a])]\n",
    "second = dictt[int(str_num[b])]\n",
    "\n",
    "while True:\n",
    "    res = []\n",
    "    for i in first:\n",
    "        for j in second:\n",
    "            res.append(i+j)\n",
    "    if b == len(str_num) - 1:\n",
    "        break\n",
    "    else:\n",
    "        b += 1\n",
    "        first = res\n",
    "        second = dictt[int(str_num[b])]\n",
    "print(res)"
   ]
  }
 ],
 "metadata": {
  "kernelspec": {
   "display_name": "Python 3.8.2 64-bit",
   "language": "python",
   "name": "python3"
  },
  "language_info": {
   "codemirror_mode": {
    "name": "ipython",
    "version": 3
   },
   "file_extension": ".py",
   "mimetype": "text/x-python",
   "name": "python",
   "nbconvert_exporter": "python",
   "pygments_lexer": "ipython3",
   "version": "3.8.2"
  },
  "vscode": {
   "interpreter": {
    "hash": "31f2aee4e71d21fbe5cf8b01ff0e069b9275f58929596ceb00d14d90e3e16cd6"
   }
  }
 },
 "nbformat": 4,
 "nbformat_minor": 5
}
