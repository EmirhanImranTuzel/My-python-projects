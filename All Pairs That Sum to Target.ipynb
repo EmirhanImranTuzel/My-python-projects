{
 "cells": [
  {
   "cell_type": "markdown",
   "id": "603687cf-4ee3-49f0-8c3a-f43b04e32991",
   "metadata": {},
   "source": [
    "# All Pairs that Sum to Target<br>Create a function that returns all pairs of numbers in an array that sum to a target. <br>Sort the pairs in ascending order with respect to the smaller number, then order each pair in this order: [smaller, larger].<br>Examples<br>allPairs([2, 4, 5, 3], 7) ➞ [[2, 5], [3, 4]]<br>// 2 + 5 = 7, 3 + 4 = 7<br>allPairs([5, 3, 9, 2, 1], 3) ➞ [[1, 2]]<br>allPairs([4, 5, 1, 3, 6, 8], 9) ➞ [[1, 8], [3, 6], [4, 5]]<br>// Sorted: 1 < 3 < 4; each pair is ordered [smaller, larger]<br>Notes<br>If no pairs are found, return an empty array [].<br>You are only allowed to use each number once in a pair."
   ]
  },
  {
   "cell_type": "code",
   "execution_count": 2,
   "id": "261fa0fe-de45-4039-92fe-7db7ade33f0c",
   "metadata": {},
   "outputs": [
    {
     "data": {
      "text/plain": [
       "[[1, 8], [3, 6], [5, 4]]"
      ]
     },
     "execution_count": 2,
     "metadata": {},
     "output_type": "execute_result"
    }
   ],
   "source": [
    "def allPairs(list_, sum_):\n",
    "    return [[i, j] for i in sorted(list_) \\\n",
    "          for j in sorted(list_[list_.index(i) + 1:]) \\\n",
    "          if i + j == sum_]\n",
    "allPairs([5, 4, 1, 3, 6, 8], 9)"
   ]
  },
  {
   "cell_type": "code",
   "execution_count": 3,
   "id": "e49d102d-13fe-4118-8327-a094e86176f7",
   "metadata": {},
   "outputs": [
    {
     "data": {
      "text/plain": [
       "[[2, 5], [4, 3]]"
      ]
     },
     "execution_count": 3,
     "metadata": {},
     "output_type": "execute_result"
    }
   ],
   "source": [
    "def allPairs(arry, num) :\n",
    "    return sorted([[arry[i], arry[j]] for i in range(0,len(arry)) for j in range(i+1, len(arry)) if arry[i] + arry[j] == num])\n",
    "allPairs([2, 4, 5, 3], 7)"
   ]
  }
 ],
 "metadata": {
  "kernelspec": {
   "display_name": "Python 3 (ipykernel)",
   "language": "python",
   "name": "python3"
  },
  "language_info": {
   "codemirror_mode": {
    "name": "ipython",
    "version": 3
   },
   "file_extension": ".py",
   "mimetype": "text/x-python",
   "name": "python",
   "nbconvert_exporter": "python",
   "pygments_lexer": "ipython3",
   "version": "3.8.12"
  }
 },
 "nbformat": 4,
 "nbformat_minor": 5
}
