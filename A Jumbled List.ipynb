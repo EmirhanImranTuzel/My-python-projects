{
 "cells": [
  {
   "cell_type": "markdown",
   "id": "17f6982f-8fc0-4150-b5aa-5d02a9fcb204",
   "metadata": {},
   "source": [
    "# A jumbled list is given whose elements are consecutive numbers. Write python code that outputs even numbers of missing numbers that are between the smallest element and the largest element of the list, but not shown in the list <br>Input<br>list = [48, 10, 11, 21, 36, 5, 6, 52, 28, 29, 53, 54, 45, 19, 20, 47, 55, 39, 41, 7, 9, 17, 26, 27, 42, 22, 37, 51, 46, 18, 44, 30, 34, 13, 15, 35, 33, 16, 50, 24]<br>Expected Output:<br>8 12 14 32 38 40 "
   ]
  },
  {
   "cell_type": "code",
   "execution_count": 2,
   "id": "075af898-7a47-403f-8503-2960b147397e",
   "metadata": {},
   "outputs": [
    {
     "name": "stdout",
     "output_type": "stream",
     "text": [
      "8 12 14 32 38 40\n"
     ]
    }
   ],
   "source": [
    "liste = [48, 10, 11, 21, 36, 5, 6, 52, 28, 29, 53, 54, 45, 19, 20, 47, 55, 39, 41, 7, 9, 17, 26, 27, 42, 22, 37, 51, 46, 18, 44, 30, 34, 13, 15, 35, 33, 16, 50, 24]\n",
    "print(*(i for i in range(min(liste),max(liste) + 1) if i % 2 == 0 and i not in liste))"
   ]
  },
  {
   "cell_type": "code",
   "execution_count": 3,
   "id": "bedee5a4-7618-43b4-b92b-0fb78f3b01fe",
   "metadata": {},
   "outputs": [
    {
     "name": "stdout",
     "output_type": "stream",
     "text": [
      "8 12 14 32 38 40\n"
     ]
    }
   ],
   "source": [
    "print(*sorted(i for i in (set(range(min(liste),max(liste) + 1)) - set(liste)) if i % 2 == 0))"
   ]
  }
 ],
 "metadata": {
  "kernelspec": {
   "display_name": "Python 3 (ipykernel)",
   "language": "python",
   "name": "python3"
  },
  "language_info": {
   "codemirror_mode": {
    "name": "ipython",
    "version": 3
   },
   "file_extension": ".py",
   "mimetype": "text/x-python",
   "name": "python",
   "nbconvert_exporter": "python",
   "pygments_lexer": "ipython3",
   "version": "3.8.12"
  }
 },
 "nbformat": 4,
 "nbformat_minor": 5
}
